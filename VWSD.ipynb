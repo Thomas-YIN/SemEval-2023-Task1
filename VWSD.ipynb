{
  "cells": [
    {
      "cell_type": "code",
      "execution_count": null,
      "metadata": {
        "colab": {
          "base_uri": "https://localhost:8080/",
          "height": 1000
        },
        "id": "MyKl5KRPRWoy",
        "outputId": "6226c9bc-c112-4f00-aefa-bfbfac0b8897"
      },
      "outputs": [],
      "source": [
        "!pip install pytorch_transformers\n",
        "!pip install open_clip_torch\n",
        "!pip install einops"
      ]
    },
    {
      "cell_type": "code",
      "execution_count": 3,
      "metadata": {
        "colab": {
          "base_uri": "https://localhost:8080/"
        },
        "id": "H95FPB0F5IXG",
        "outputId": "9fa86f51-807f-4fdb-f2f6-66e97309ad5b"
      },
      "outputs": [
        {
          "name": "stderr",
          "output_type": "stream",
          "text": [
            "[nltk_data] Downloading package wordnet to /Users/yzh/nltk_data...\n",
            "[nltk_data]   Package wordnet is already up-to-date!\n"
          ]
        }
      ],
      "source": [
        "import torch\n",
        "from torch import nn\n",
        "import torch.nn.functional as F\n",
        "import os\n",
        "from PIL import Image\n",
        "from PIL import ImageFile\n",
        "ImageFile.LOAD_TRUNCATED_IMAGES = True\n",
        "Image.MAX_IMAGE_PIXELS = None\n",
        "import open_clip\n",
        "from torch.utils.data import Dataset, DataLoader\n",
        "import einops\n",
        "import numpy as np\n",
        "\n",
        "from eval import *\n",
        "from data import ImageTextDataset\n",
        "from models import *"
      ]
    },
    {
      "cell_type": "code",
      "execution_count": null,
      "metadata": {},
      "outputs": [],
      "source": [
        "device = torch.device(\"cuda\" if torch.cuda.is_available() else \"cpu\")\n",
        "clip, _, preprocess = open_clip.create_model_and_transforms('ViT-B-32', pretrained='laion2b_s34b_b79k')\n",
        "tokenizer = open_clip.get_tokenizer('ViT-B-32')\n",
        "\n",
        "# freeze clip params\n",
        "for param in clip.parameters():\n",
        "    param.requires_grad = False\n",
        "\n",
        "# choose the modality fuser here\n",
        "model = TransformerFuser().to(device)\n",
        "\n",
        "loss_fn = nn.CrossEntropyLoss()\n",
        "optimizer = torch.optim.Adam(model.parameters(), lr=3e-6)\n",
        "\n",
        "train_data = DataLoader(ImageTextDataset('train', preprocess), batch_size=10, shuffle=True, num_workers=4)\n",
        "valid_data = DataLoader(ImageTextDataset('valid', preprocess), batch_size=10, num_workers=4)\n",
        "test_data = DataLoader(ImageTextDataset('test', preprocess), batch_size=10, num_workers=4)\n",
        "\n",
        "num_epochs = 5\n",
        "\n",
        "for epoch in range(num_epochs):\n",
        "\n",
        "    for i, (prompt, retrieved_images, candidate_images, gold_index) in enumerate(train_data):\n",
        "\n",
        "        b = len(prompt)\n",
        "\n",
        "        logits = model(prompt, retrieved_images.to(device), candidate_images.to(device), clip, tokenizer, device)\n",
        "\n",
        "        labels = torch.zeros((b, 10)).to(device)\n",
        "        for j in range(b):\n",
        "            labels[j, gold_index[j]] = 1 # [0, 0, ..., 1, ..., 0]\n",
        "\n",
        "        model.train()\n",
        "        optimizer.zero_grad()\n",
        "        loss = loss_fn(logits, labels)\n",
        "        loss.backward()\n",
        "        optimizer.step()\n",
        "        \n",
        "        if i % 200 == 0:\n",
        "            mrr = MRR(logits.detach().cpu(), gold_index)\n",
        "            hit_1 = hit_rate(logits.detach().cpu(), gold_index)\n",
        "            print('[Epoch %d/%d] [Iter %d] [loss : %f] [hit@1 : %f] [mrr : %f]' %(epoch+1, num_epochs, i, loss.item(), hit_1, mrr))\n",
        "            \n",
        "    print(\"Evaluating on validation set...\")\n",
        "    evaluate(valid_data, model)\n",
        "    print(\"Evaluating on test set...\")\n",
        "    evaluate(test_data, model)\n",
        "    torch.save(model.state_dict(), \"transformer_\" + str(epoch+1) + \".pth\")"
      ]
    },
    {
      "cell_type": "code",
      "execution_count": null,
      "metadata": {},
      "outputs": [],
      "source": [
        "# Load model and evaluate on test set\n",
        "\n",
        "# CLIP baseline with augmented context\n",
        "evaluate(test_data, clip, tokenizer, device, model=None)\n",
        "\n",
        "# average fuser\n",
        "ave_model = AverageFuser()\n",
        "evaluate(test_data, clip, tokenizer, device, ave_model)\n",
        "\n",
        "# transformer fuser\n",
        "transformer_model = TransformerFuser()\n",
        "transformer_model.load_state_dict(torch.load('transformer_4.pth'))\n",
        "evaluate(test_data, clip, tokenizer, device, transformer_model.to(device))"
      ]
    }
  ],
  "metadata": {
    "accelerator": "GPU",
    "colab": {
      "gpuType": "T4",
      "provenance": []
    },
    "kernelspec": {
      "display_name": "Python 3",
      "name": "python3"
    },
    "language_info": {
      "codemirror_mode": {
        "name": "ipython",
        "version": 3
      },
      "file_extension": ".py",
      "mimetype": "text/x-python",
      "name": "python",
      "nbconvert_exporter": "python",
      "pygments_lexer": "ipython3",
      "version": "3.11.5"
    }
  },
  "nbformat": 4,
  "nbformat_minor": 0
}
