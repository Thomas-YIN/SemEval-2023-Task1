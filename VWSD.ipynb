{
  "cells": [
    {
      "cell_type": "code",
      "execution_count": 10,
      "metadata": {
        "colab": {
          "base_uri": "https://localhost:8080/",
          "height": 1000
        },
        "id": "MyKl5KRPRWoy",
        "outputId": "6226c9bc-c112-4f00-aefa-bfbfac0b8897"
      },
      "outputs": [
        {
          "name": "stdout",
          "output_type": "stream",
          "text": [
            "Collecting pytorch_transformers\n",
            "  Downloading pytorch_transformers-1.2.0-py3-none-any.whl (176 kB)\n",
            "\u001b[2K     \u001b[90m━━━━━━━━━━━━━━━━━━━━━━━━━━━━━━━━━━━━━━━\u001b[0m \u001b[32m176.4/176.4 kB\u001b[0m \u001b[31m8.5 MB/s\u001b[0m eta \u001b[36m0:00:00\u001b[0m\n",
            "\u001b[?25hRequirement already satisfied: torch>=1.0.0 in /home/jmabq/miniconda3/envs/dalle2/lib/python3.10/site-packages (from pytorch_transformers) (2.1.0)\n",
            "Requirement already satisfied: numpy in /home/jmabq/.local/lib/python3.10/site-packages (from pytorch_transformers) (1.25.2)\n",
            "Collecting boto3 (from pytorch_transformers)\n",
            "  Obtaining dependency information for boto3 from https://files.pythonhosted.org/packages/f2/23/c5545cb57abfc3a9782287f2845a26286f6f9f7bcec36f13569567f950fe/boto3-1.29.5-py3-none-any.whl.metadata\n",
            "  Downloading boto3-1.29.5-py3-none-any.whl.metadata (6.7 kB)\n",
            "Requirement already satisfied: requests in /home/jmabq/miniconda3/envs/dalle2/lib/python3.10/site-packages (from pytorch_transformers) (2.31.0)\n",
            "Requirement already satisfied: tqdm in /home/jmabq/miniconda3/envs/dalle2/lib/python3.10/site-packages/tqdm-4.66.1-py3.10.egg (from pytorch_transformers) (4.66.1)\n",
            "Requirement already satisfied: regex in /home/jmabq/.local/lib/python3.10/site-packages (from pytorch_transformers) (2023.10.3)\n",
            "Requirement already satisfied: sentencepiece in /home/jmabq/.local/lib/python3.10/site-packages (from pytorch_transformers) (0.1.99)\n",
            "Collecting sacremoses (from pytorch_transformers)\n",
            "  Obtaining dependency information for sacremoses from https://files.pythonhosted.org/packages/0b/f0/89ee2bc9da434bd78464f288fdb346bc2932f2ee80a90b2a4bbbac262c74/sacremoses-0.1.1-py3-none-any.whl.metadata\n",
            "  Downloading sacremoses-0.1.1-py3-none-any.whl.metadata (8.3 kB)\n",
            "Requirement already satisfied: filelock in /home/jmabq/miniconda3/envs/dalle2/lib/python3.10/site-packages (from torch>=1.0.0->pytorch_transformers) (3.9.0)\n",
            "Requirement already satisfied: typing-extensions in /home/jmabq/miniconda3/envs/dalle2/lib/python3.10/site-packages (from torch>=1.0.0->pytorch_transformers) (4.8.0)\n",
            "Requirement already satisfied: sympy in /home/jmabq/miniconda3/envs/dalle2/lib/python3.10/site-packages (from torch>=1.0.0->pytorch_transformers) (1.11.1)\n",
            "Requirement already satisfied: networkx in /home/jmabq/.local/lib/python3.10/site-packages (from torch>=1.0.0->pytorch_transformers) (3.1)\n",
            "Requirement already satisfied: jinja2 in /home/jmabq/miniconda3/envs/dalle2/lib/python3.10/site-packages (from torch>=1.0.0->pytorch_transformers) (3.1.2)\n",
            "Requirement already satisfied: fsspec in /home/jmabq/miniconda3/envs/dalle2/lib/python3.10/site-packages (from torch>=1.0.0->pytorch_transformers) (2023.6.0)\n",
            "Collecting botocore<1.33.0,>=1.32.5 (from boto3->pytorch_transformers)\n",
            "  Obtaining dependency information for botocore<1.33.0,>=1.32.5 from https://files.pythonhosted.org/packages/02/55/7070f28d963cf8843e1335c8c3de0a37dd6382b53e83315ddaab1f645f5e/botocore-1.32.5-py3-none-any.whl.metadata\n",
            "  Downloading botocore-1.32.5-py3-none-any.whl.metadata (6.1 kB)\n",
            "Collecting jmespath<2.0.0,>=0.7.1 (from boto3->pytorch_transformers)\n",
            "  Using cached jmespath-1.0.1-py3-none-any.whl (20 kB)\n",
            "Collecting s3transfer<0.8.0,>=0.7.0 (from boto3->pytorch_transformers)\n",
            "  Obtaining dependency information for s3transfer<0.8.0,>=0.7.0 from https://files.pythonhosted.org/packages/5a/4b/fec9ce18f8874a96c5061422625ba86c3ee1e6587ccd92ff9f5bf7bd91b2/s3transfer-0.7.0-py3-none-any.whl.metadata\n",
            "  Downloading s3transfer-0.7.0-py3-none-any.whl.metadata (1.8 kB)\n",
            "Requirement already satisfied: charset-normalizer<4,>=2 in /home/jmabq/miniconda3/envs/dalle2/lib/python3.10/site-packages (from requests->pytorch_transformers) (2.0.4)\n",
            "Requirement already satisfied: idna<4,>=2.5 in /home/jmabq/miniconda3/envs/dalle2/lib/python3.10/site-packages (from requests->pytorch_transformers) (3.4)\n",
            "Requirement already satisfied: urllib3<3,>=1.21.1 in /home/jmabq/miniconda3/envs/dalle2/lib/python3.10/site-packages (from requests->pytorch_transformers) (1.26.16)\n",
            "Requirement already satisfied: certifi>=2017.4.17 in /home/jmabq/miniconda3/envs/dalle2/lib/python3.10/site-packages (from requests->pytorch_transformers) (2023.7.22)\n",
            "Requirement already satisfied: click in /home/jmabq/miniconda3/envs/dalle2/lib/python3.10/site-packages/click-8.1.7-py3.10.egg (from sacremoses->pytorch_transformers) (8.1.7)\n",
            "Requirement already satisfied: joblib in /home/jmabq/miniconda3/envs/dalle2/lib/python3.10/site-packages (from sacremoses->pytorch_transformers) (1.3.2)\n",
            "Requirement already satisfied: python-dateutil<3.0.0,>=2.1 in /home/jmabq/miniconda3/envs/dalle2/lib/python3.10/site-packages (from botocore<1.33.0,>=1.32.5->boto3->pytorch_transformers) (2.8.2)\n",
            "Requirement already satisfied: MarkupSafe>=2.0 in /home/jmabq/miniconda3/envs/dalle2/lib/python3.10/site-packages (from jinja2->torch>=1.0.0->pytorch_transformers) (2.1.1)\n",
            "Requirement already satisfied: mpmath>=0.19 in /home/jmabq/miniconda3/envs/dalle2/lib/python3.10/site-packages (from sympy->torch>=1.0.0->pytorch_transformers) (1.3.0)\n",
            "Requirement already satisfied: six>=1.5 in /home/jmabq/miniconda3/envs/dalle2/lib/python3.10/site-packages (from python-dateutil<3.0.0,>=2.1->botocore<1.33.0,>=1.32.5->boto3->pytorch_transformers) (1.16.0)\n",
            "Downloading boto3-1.29.5-py3-none-any.whl (135 kB)\n",
            "\u001b[2K   \u001b[90m━━━━━━━━━━━━━━━━━━━━━━━━━━━━━━━━━━━━━━━━\u001b[0m \u001b[32m135.8/135.8 kB\u001b[0m \u001b[31m15.0 MB/s\u001b[0m eta \u001b[36m0:00:00\u001b[0m\n",
            "\u001b[?25hDownloading sacremoses-0.1.1-py3-none-any.whl (897 kB)\n",
            "\u001b[2K   \u001b[90m━━━━━━━━━━━━━━━━━━━━━━━━━━━━━━━━━━━━━━━━\u001b[0m \u001b[32m897.5/897.5 kB\u001b[0m \u001b[31m28.8 MB/s\u001b[0m eta \u001b[36m0:00:00\u001b[0m\n",
            "\u001b[?25hDownloading botocore-1.32.5-py3-none-any.whl (11.5 MB)\n",
            "\u001b[2K   \u001b[90m━━━━━━━━━━━━━━━━━━━━━━━━━━━━━━━━━━━━━━━━\u001b[0m \u001b[32m11.5/11.5 MB\u001b[0m \u001b[31m52.1 MB/s\u001b[0m eta \u001b[36m0:00:00\u001b[0m00:01\u001b[0m0:01\u001b[0m\n",
            "\u001b[?25hDownloading s3transfer-0.7.0-py3-none-any.whl (79 kB)\n",
            "\u001b[2K   \u001b[90m━━━━━━━━━━━━━━━━━━━━━━━━━━━━━━━━━━━━━━━━\u001b[0m \u001b[32m79.8/79.8 kB\u001b[0m \u001b[31m40.4 MB/s\u001b[0m eta \u001b[36m0:00:00\u001b[0m\n",
            "\u001b[?25hInstalling collected packages: sacremoses, jmespath, botocore, s3transfer, boto3, pytorch_transformers\n",
            "Successfully installed boto3-1.29.5 botocore-1.32.5 jmespath-1.0.1 pytorch_transformers-1.2.0 s3transfer-0.7.0 sacremoses-0.1.1\n",
            "Requirement already satisfied: open_clip_torch in /home/jmabq/.local/lib/python3.10/site-packages (2.22.0)\n",
            "Requirement already satisfied: torch>=1.9.0 in /home/jmabq/miniconda3/envs/dalle2/lib/python3.10/site-packages (from open_clip_torch) (2.1.0)\n",
            "Requirement already satisfied: torchvision in /home/jmabq/miniconda3/envs/dalle2/lib/python3.10/site-packages (from open_clip_torch) (0.16.0)\n",
            "Requirement already satisfied: regex in /home/jmabq/.local/lib/python3.10/site-packages (from open_clip_torch) (2023.10.3)\n",
            "Requirement already satisfied: ftfy in /home/jmabq/.local/lib/python3.10/site-packages (from open_clip_torch) (6.1.1)\n",
            "Requirement already satisfied: tqdm in /home/jmabq/miniconda3/envs/dalle2/lib/python3.10/site-packages/tqdm-4.66.1-py3.10.egg (from open_clip_torch) (4.66.1)\n",
            "Requirement already satisfied: huggingface-hub in /home/jmabq/miniconda3/envs/dalle2/lib/python3.10/site-packages (from open_clip_torch) (0.19.4)\n",
            "Requirement already satisfied: sentencepiece in /home/jmabq/.local/lib/python3.10/site-packages (from open_clip_torch) (0.1.99)\n",
            "Requirement already satisfied: protobuf<4 in /home/jmabq/miniconda3/envs/dalle2/lib/python3.10/site-packages/protobuf-3.20.3-py3.10.egg (from open_clip_torch) (3.20.3)\n",
            "Requirement already satisfied: timm in /home/jmabq/.local/lib/python3.10/site-packages (from open_clip_torch) (0.9.7)\n",
            "Requirement already satisfied: filelock in /home/jmabq/miniconda3/envs/dalle2/lib/python3.10/site-packages (from torch>=1.9.0->open_clip_torch) (3.9.0)\n",
            "Requirement already satisfied: typing-extensions in /home/jmabq/miniconda3/envs/dalle2/lib/python3.10/site-packages (from torch>=1.9.0->open_clip_torch) (4.8.0)\n",
            "Requirement already satisfied: sympy in /home/jmabq/miniconda3/envs/dalle2/lib/python3.10/site-packages (from torch>=1.9.0->open_clip_torch) (1.11.1)\n",
            "Requirement already satisfied: networkx in /home/jmabq/.local/lib/python3.10/site-packages (from torch>=1.9.0->open_clip_torch) (3.1)\n",
            "Requirement already satisfied: jinja2 in /home/jmabq/miniconda3/envs/dalle2/lib/python3.10/site-packages (from torch>=1.9.0->open_clip_torch) (3.1.2)\n",
            "Requirement already satisfied: fsspec in /home/jmabq/miniconda3/envs/dalle2/lib/python3.10/site-packages (from torch>=1.9.0->open_clip_torch) (2023.6.0)\n",
            "Requirement already satisfied: wcwidth>=0.2.5 in /home/jmabq/.local/lib/python3.10/site-packages (from ftfy->open_clip_torch) (0.2.8)\n",
            "Requirement already satisfied: requests in /home/jmabq/miniconda3/envs/dalle2/lib/python3.10/site-packages (from huggingface-hub->open_clip_torch) (2.31.0)\n",
            "Requirement already satisfied: pyyaml>=5.1 in /home/jmabq/miniconda3/envs/dalle2/lib/python3.10/site-packages (from huggingface-hub->open_clip_torch) (6.0)\n",
            "Requirement already satisfied: packaging>=20.9 in /home/jmabq/.local/lib/python3.10/site-packages (from huggingface-hub->open_clip_torch) (23.1)\n",
            "Requirement already satisfied: safetensors in /home/jmabq/.local/lib/python3.10/site-packages (from timm->open_clip_torch) (0.4.0)\n",
            "Requirement already satisfied: numpy in /home/jmabq/.local/lib/python3.10/site-packages (from torchvision->open_clip_torch) (1.25.2)\n",
            "Requirement already satisfied: pillow!=8.3.*,>=5.3.0 in /home/jmabq/miniconda3/envs/dalle2/lib/python3.10/site-packages (from torchvision->open_clip_torch) (10.0.1)\n",
            "Requirement already satisfied: MarkupSafe>=2.0 in /home/jmabq/miniconda3/envs/dalle2/lib/python3.10/site-packages (from jinja2->torch>=1.9.0->open_clip_torch) (2.1.1)\n",
            "Requirement already satisfied: charset-normalizer<4,>=2 in /home/jmabq/miniconda3/envs/dalle2/lib/python3.10/site-packages (from requests->huggingface-hub->open_clip_torch) (2.0.4)\n",
            "Requirement already satisfied: idna<4,>=2.5 in /home/jmabq/miniconda3/envs/dalle2/lib/python3.10/site-packages (from requests->huggingface-hub->open_clip_torch) (3.4)\n",
            "Requirement already satisfied: urllib3<3,>=1.21.1 in /home/jmabq/miniconda3/envs/dalle2/lib/python3.10/site-packages (from requests->huggingface-hub->open_clip_torch) (1.26.16)\n",
            "Requirement already satisfied: certifi>=2017.4.17 in /home/jmabq/miniconda3/envs/dalle2/lib/python3.10/site-packages (from requests->huggingface-hub->open_clip_torch) (2023.7.22)\n",
            "Requirement already satisfied: mpmath>=0.19 in /home/jmabq/miniconda3/envs/dalle2/lib/python3.10/site-packages (from sympy->torch>=1.9.0->open_clip_torch) (1.3.0)\n",
            "Requirement already satisfied: einops in /home/jmabq/.local/lib/python3.10/site-packages (0.7.0)\n"
          ]
        }
      ],
      "source": [
        "!pip install pytorch_transformers\n",
        "!pip install open_clip_torch\n",
        "!pip install einops"
      ]
    },
    {
      "cell_type": "code",
      "execution_count": 3,
      "metadata": {
        "colab": {
          "base_uri": "https://localhost:8080/"
        },
        "id": "H95FPB0F5IXG",
        "outputId": "9fa86f51-807f-4fdb-f2f6-66e97309ad5b"
      },
      "outputs": [
        {
          "name": "stderr",
          "output_type": "stream",
          "text": [
            "[nltk_data] Downloading package wordnet to /Users/yzh/nltk_data...\n",
            "[nltk_data]   Package wordnet is already up-to-date!\n"
          ]
        }
      ],
      "source": [
        "import torch\n",
        "from torch import nn\n",
        "import torch.nn.functional as F\n",
        "import os\n",
        "from PIL import Image\n",
        "from PIL import ImageFile\n",
        "ImageFile.LOAD_TRUNCATED_IMAGES = True\n",
        "Image.MAX_IMAGE_PIXELS = None\n",
        "import open_clip\n",
        "from torch.utils.data import Dataset, DataLoader\n",
        "import einops\n",
        "import numpy as np\n",
        "\n",
        "from eval import *\n",
        "from data import ImageTextDataset\n",
        "from models import *"
      ]
    },
    {
      "cell_type": "code",
      "execution_count": null,
      "metadata": {},
      "outputs": [],
      "source": [
        "device = torch.device(\"cuda\" if torch.cuda.is_available() else \"cpu\")\n",
        "clip, _, preprocess = open_clip.create_model_and_transforms('ViT-B-32', pretrained='laion2b_s34b_b79k')\n",
        "tokenizer = open_clip.get_tokenizer('ViT-B-32')\n",
        "\n",
        "# choose the modality fuser here\n",
        "model = TransformerFuser().to(device)\n",
        "\n",
        "loss_fn = nn.CrossEntropyLoss()\n",
        "optimizer = torch.optim.Adam(model.parameters(), lr=3e-6)\n",
        "\n",
        "train_data = DataLoader(ImageTextDataset('train', preprocess), batch_size=10, shuffle=True, num_workers=4)\n",
        "valid_data = DataLoader(ImageTextDataset('valid', preprocess), batch_size=10, num_workers=4)\n",
        "test_data = DataLoader(ImageTextDataset('test', preprocess), batch_size=10, num_workers=4)\n",
        "\n",
        "num_epochs = 5\n",
        "\n",
        "for epoch in range(num_epochs):\n",
        "\n",
        "    for i, (prompt, retrieved_images, candidate_images, gold_index) in enumerate(train_data):\n",
        "\n",
        "        b = len(prompt)\n",
        "\n",
        "        logits = model(prompt, retrieved_images.to(device), candidate_images.to(device), clip, tokenizer, device)\n",
        "\n",
        "        labels = torch.zeros((b, 10)).to(device)\n",
        "        for j in range(b):\n",
        "            labels[j, gold_index[j]] = 1 # [0, 0, ..., 1, ..., 0]\n",
        "\n",
        "        model.train()\n",
        "        optimizer.zero_grad()\n",
        "        loss = loss_fn(logits, labels)\n",
        "        loss.backward()\n",
        "        optimizer.step()\n",
        "        \n",
        "        if i % 200 == 0:\n",
        "            mrr = MRR(logits.detach().cpu(), gold_index)\n",
        "            hit_1 = hit_rate(logits.detach().cpu(), gold_index)\n",
        "            print('[Epoch %d/%d] [Iter %d] [loss : %f] [hit@1 : %f] [mrr : %f]' %(epoch+1, num_epochs, i, loss.item(), hit_1, mrr))\n",
        "            \n",
        "    print(\"Evaluating on validation set...\")\n",
        "    evaluate(valid_data, model)\n",
        "    print(\"Evaluating on test set...\")\n",
        "    evaluate(test_data, model)\n",
        "    torch.save(model.state_dict(), \"transformer_\" + str(epoch+1) + \".pth\")"
      ]
    },
    {
      "cell_type": "code",
      "execution_count": null,
      "metadata": {},
      "outputs": [],
      "source": [
        "# Load model and evaluate on test set\n",
        "\n",
        "# CLIP baseline with augmented context\n",
        "evaluate(test_data, clip, tokenizer, device, model=None)\n",
        "\n",
        "# average fuser\n",
        "ave_model = AverageFuser()\n",
        "evaluate(test_data, clip, tokenizer, device, ave_model)\n",
        "\n",
        "# transformer fuser\n",
        "transformer_model = TransformerFuser()\n",
        "transformer_model.load_state_dict(torch.load('transformer_4.pth'))\n",
        "evaluate(test_data, clip, tokenizer, device, transformer_model.to(device))"
      ]
    }
  ],
  "metadata": {
    "accelerator": "GPU",
    "colab": {
      "gpuType": "T4",
      "provenance": []
    },
    "kernelspec": {
      "display_name": "Python 3",
      "name": "python3"
    },
    "language_info": {
      "codemirror_mode": {
        "name": "ipython",
        "version": 3
      },
      "file_extension": ".py",
      "mimetype": "text/x-python",
      "name": "python",
      "nbconvert_exporter": "python",
      "pygments_lexer": "ipython3",
      "version": "3.11.5"
    }
  },
  "nbformat": 4,
  "nbformat_minor": 0
}
